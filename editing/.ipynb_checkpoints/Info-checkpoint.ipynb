{
 "cells": [
  {
   "cell_type": "markdown",
   "metadata": {},
   "source": [
    "1. Fully Observable vs Partially Observable\n",
    "2. Deterministic vs Stochastic\n",
    "3. Descrete vs Contineous\n",
    "4. Adversarial"
   ]
  },
  {
   "cell_type": "markdown",
   "metadata": {},
   "source": [
    "#### NP Complete\n",
    "Game Theory"
   ]
  },
  {
   "cell_type": "markdown",
   "metadata": {},
   "source": [
    "### PEAS\n",
    "\n",
    "| Performance Measure | Environment | Actuator | Sensor |"
   ]
  },
  {
   "cell_type": "markdown",
   "metadata": {},
   "source": [
    "### Task Environments: \n",
    "#### Fully observable vs. partially observable\n",
    "If an agent’s sensors give it access to the complete state of the environment at each point in time, then we say that the task environment is fully observable.\n",
    "\n",
    "\n",
    "#### Deterministic vs. stochastic.\n",
    "If the next state of the environment is completely determined by the current state and the action executed by the agent, then we say the environment is deterministic\n",
    "\n",
    "#### Episodic vs Sequential\n",
    "#### Static vs Dynamic\n",
    "#### Descrete vs Contineous\n"
   ]
  },
  {
   "cell_type": "markdown",
   "metadata": {},
   "source": [
    "### Agent Type\n",
    "1. Simple Reflex\n",
    "2. Model based\n",
    "3. Goal based\n",
    "4. Utility based"
   ]
  },
  {
   "cell_type": "markdown",
   "metadata": {},
   "source": [
    "## Typical AI Problems\n",
    "1. n Queen\n",
    "2. Square Puzzle\n",
    "3. Chess\n",
    "4. Sudoku\n",
    "5. Tic-Tac-Toe\n",
    "6. Rubiks Cube"
   ]
  },
  {
   "cell_type": "code",
   "execution_count": null,
   "metadata": {},
   "outputs": [],
   "source": []
  }
 ],
 "metadata": {
  "kernelspec": {
   "display_name": "Python 3",
   "language": "python",
   "name": "python3"
  },
  "language_info": {
   "codemirror_mode": {
    "name": "ipython",
    "version": 3
   },
   "file_extension": ".py",
   "mimetype": "text/x-python",
   "name": "python",
   "nbconvert_exporter": "python",
   "pygments_lexer": "ipython3",
   "version": "3.7.0"
  }
 },
 "nbformat": 4,
 "nbformat_minor": 2
}

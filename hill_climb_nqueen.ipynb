{
 "cells": [
  {
   "cell_type": "code",
   "execution_count": 1,
   "metadata": {},
   "outputs": [],
   "source": [
    "import time\n",
    "import numpy as np"
   ]
  },
  {
   "cell_type": "markdown",
   "metadata": {},
   "source": [
    "### Algorithm: Hill Climbing with Random Restart \n",
    "### Problem: N Queen"
   ]
  },
  {
   "cell_type": "markdown",
   "metadata": {},
   "source": [
    "#### Heuristic: Number of pair in attack situation."
   ]
  },
  {
   "cell_type": "code",
   "execution_count": 2,
   "metadata": {},
   "outputs": [],
   "source": [
    "'''\n",
    "Each row contains one queen in arbitrary column.  \n",
    "So, Vartical and diagonal attack only. No horizontal attack.\n",
    "'''\n",
    "def calc_attack_heuristic(state):\n",
    "    attack=0\n",
    "    for row, col in enumerate(state): \n",
    "        for ir in range(row+1, len(state) ): \n",
    "    #         print('row=',row,'q col=',col,' ir=',ir, 'current[ir]=', current[ir])\n",
    "            if state[ir]==col:   #vertical attack\n",
    "                attack+=1 \n",
    "            elif abs(col-state[ir])==ir-row :  #diagonal attack\n",
    "                attack+=1\n",
    "    return -attack"
   ]
  },
  {
   "cell_type": "code",
   "execution_count": 3,
   "metadata": {},
   "outputs": [],
   "source": [
    "def board_print(state):\n",
    "    bs=''\n",
    "    for row in range( len(state) ):\n",
    "        for col in range( len(state) ):\n",
    "            if col==state[row]:\n",
    "                bs+='Q '\n",
    "            else:\n",
    "                bs+='. '\n",
    "        if row!=len(state)-1:\n",
    "            bs+='\\n'\n",
    "    print(state)\n",
    "    print('')\n",
    "    print(bs)"
   ]
  },
  {
   "cell_type": "code",
   "execution_count": 4,
   "metadata": {},
   "outputs": [],
   "source": [
    "'''\n",
    "For each of the n rows queen can move to n-1 other positions. So, #next_states= n*(n-1)\n",
    "'''\n",
    "def gen_next_states(state):\n",
    "    near_states=[]\n",
    "    for row in range( len(state) ):\n",
    "        for col in range( len(state) ):\n",
    "            if col==state[row]:\n",
    "                pass\n",
    "            else:\n",
    "                near = list(state)   #copy\n",
    "                near[row]=col        #place queen in new position for this row.\n",
    "                near_states.append(near)\n",
    "    return near_states"
   ]
  },
  {
   "cell_type": "code",
   "execution_count": 5,
   "metadata": {},
   "outputs": [
    {
     "name": "stdout",
     "output_type": "stream",
     "text": [
      "[1 2 0 2]\n",
      "\n",
      ". Q . . \n",
      ". . Q . \n",
      "Q . . . \n",
      ". . Q . \n"
     ]
    }
   ],
   "source": [
    "state=np.random.randint(low=0, high=3, size=4)\n",
    "board_print(state)"
   ]
  },
  {
   "cell_type": "code",
   "execution_count": 6,
   "metadata": {},
   "outputs": [
    {
     "name": "stdout",
     "output_type": "stream",
     "text": [
      "[1 2 0 2]\n",
      "([0, 2, 0, 2], -2)\n",
      "([2, 2, 0, 2], -4)\n",
      "([3, 2, 0, 2], -2)\n",
      "([1, 0, 0, 2], -3)\n",
      "([1, 1, 0, 2], -2)\n",
      "([1, 3, 0, 2], 0)\n",
      "([1, 2, 1, 2], -5)\n",
      "([1, 2, 2, 2], -4)\n",
      "([1, 2, 3, 2], -5)\n",
      "([1, 2, 0, 0], -3)\n",
      "([1, 2, 0, 1], -3)\n",
      "([1, 2, 0, 3], -1)\n"
     ]
    }
   ],
   "source": [
    "near_states=gen_next_states(state)\n",
    "print(state)\n",
    "for ns in near_states:\n",
    "    print(ns, calc_attack_heuristic(ns))"
   ]
  },
  {
   "cell_type": "code",
   "execution_count": 7,
   "metadata": {},
   "outputs": [],
   "source": [
    "#hill climbing\n",
    "def hill_climb(current):\n",
    "    while True:\n",
    "        next_states=gen_next_states(current)\n",
    "        hs=[calc_attack_heuristic(ns) for ns in next_states] \n",
    "        imax=np.argmax(hs)\n",
    "        next =next_states[imax]\n",
    "        if calc_attack_heuristic(next) <= calc_attack_heuristic(current):\n",
    "            break\n",
    "        current = next\n",
    "    return current"
   ]
  },
  {
   "cell_type": "code",
   "execution_count": 8,
   "metadata": {},
   "outputs": [],
   "source": [
    "def is_it_goal(state):\n",
    "    if calc_attack_heuristic(state)==0:\n",
    "        return True\n",
    "    else:\n",
    "        return False"
   ]
  },
  {
   "cell_type": "code",
   "execution_count": 9,
   "metadata": {},
   "outputs": [
    {
     "name": "stdout",
     "output_type": "stream",
     "text": [
      "#queen 15\n",
      "#restart 1/30 failed\n",
      "#restart 2/30 failed\n",
      "#restart 3/30 failed\n",
      "#restart 4/30 failed\n",
      "#restart 5/30 failed\n",
      "#restart 6/30 failed\n",
      "#restart 7/30 failed\n",
      "#restart 8/30 failed\n",
      "\n",
      "duration: 0.90 seconds\n",
      "#restart=9\n",
      "goal found=True\n",
      "[5, 9, 0, 3, 11, 2, 8, 13, 4, 10, 14, 6, 1, 12, 7]\n",
      "\n",
      ". . . . . Q . . . . . . . . . \n",
      ". . . . . . . . . Q . . . . . \n",
      "Q . . . . . . . . . . . . . . \n",
      ". . . Q . . . . . . . . . . . \n",
      ". . . . . . . . . . . Q . . . \n",
      ". . Q . . . . . . . . . . . . \n",
      ". . . . . . . . Q . . . . . . \n",
      ". . . . . . . . . . . . . Q . \n",
      ". . . . Q . . . . . . . . . . \n",
      ". . . . . . . . . . Q . . . . \n",
      ". . . . . . . . . . . . . . Q \n",
      ". . . . . . Q . . . . . . . . \n",
      ". Q . . . . . . . . . . . . . \n",
      ". . . . . . . . . . . . Q . . \n",
      ". . . . . . . Q . . . . . . . \n"
     ]
    }
   ],
   "source": [
    "#random restart hill climb\n",
    "n_restart=30\n",
    "nqueen=15\n",
    "success=False\n",
    "print('#queen %s'%nqueen)\n",
    "st=time.time()\n",
    "for epoch in range(n_restart):\n",
    "    current=np.random.randint(low=0, high=nqueen-1, size=nqueen)\n",
    "#     board_print(current)\n",
    "    current=hill_climb(current)\n",
    "    success=is_it_goal(current) \n",
    "    if success:\n",
    "        break\n",
    "    else:\n",
    "        print('#restart %s/%s failed'%(epoch+1, n_restart))\n",
    "et=time.time()\n",
    "\n",
    "print('\\nduration: %0.2f seconds'%(et-st))\n",
    "print('#restart=%s'% (epoch+1) ) \n",
    "print('goal found=%s'% success )\n",
    "if success: \n",
    "    board_print(current)\n"
   ]
  },
  {
   "cell_type": "code",
   "execution_count": null,
   "metadata": {},
   "outputs": [],
   "source": []
  },
  {
   "cell_type": "code",
   "execution_count": null,
   "metadata": {},
   "outputs": [],
   "source": []
  },
  {
   "cell_type": "code",
   "execution_count": null,
   "metadata": {},
   "outputs": [],
   "source": []
  }
 ],
 "metadata": {
  "kernelspec": {
   "display_name": "Python 2",
   "language": "python",
   "name": "python2"
  },
  "language_info": {
   "codemirror_mode": {
    "name": "ipython",
    "version": 2
   },
   "file_extension": ".py",
   "mimetype": "text/x-python",
   "name": "python",
   "nbconvert_exporter": "python",
   "pygments_lexer": "ipython2",
   "version": "2.7.15"
  }
 },
 "nbformat": 4,
 "nbformat_minor": 2
}

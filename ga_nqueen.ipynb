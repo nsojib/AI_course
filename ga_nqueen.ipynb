{
 "cells": [
  {
   "cell_type": "code",
   "execution_count": 1,
   "metadata": {},
   "outputs": [],
   "source": [
    "import random\n",
    "import numpy as np\n",
    "import sys\n",
    "import copy\n",
    "import math \n",
    "import time"
   ]
  },
  {
   "cell_type": "markdown",
   "metadata": {},
   "source": [
    "### GA\n",
    "\n",
    "1. Randomly initialize populations p\n",
    "2. Determine fitness of population\n",
    "3. Untill convergence repeat: <br>\n",
    "      a. Create next generation from current population( select parent using pool then crossover, or , get the top fittest for the next generation) <br>\n",
    "      b. Perform mutation on new population <br>\n",
    "      c. Calculate fitness for new population\n",
    "      "
   ]
  },
  {
   "cell_type": "markdown",
   "metadata": {},
   "source": [
    "#### Self Test: Give the name of the algorithm which results from:\n",
    "genetic algorithm with population size N=1. (beam search)\n",
    "\n",
    "#### Challange: \n",
    "1. How to create next generation.\n",
    "2. How to select parents? "
   ]
  },
  {
   "cell_type": "markdown",
   "metadata": {},
   "source": [
    "### Representation and Evaluation"
   ]
  },
  {
   "cell_type": "code",
   "execution_count": 2,
   "metadata": {},
   "outputs": [],
   "source": [
    "def board_print(state):\n",
    "    bs=''\n",
    "    for row in range( len(state) ):\n",
    "        for col in range( len(state) ):\n",
    "            if col==state[row]:\n",
    "                bs+='Q '\n",
    "            else:\n",
    "                bs+='. '\n",
    "        if row!=len(state)-1:\n",
    "            bs+='\\n'\n",
    "    print(state)\n",
    "    print('')\n",
    "    print(bs)"
   ]
  },
  {
   "cell_type": "code",
   "execution_count": 3,
   "metadata": {},
   "outputs": [],
   "source": [
    "'''\n",
    "each row contains one queen in arbitrary column.  \n",
    "so, Vartical and diagonal attack only. No horizontal attack.\n",
    "'''\n",
    "def calc_attack_heuristic(state):\n",
    "    attack=0\n",
    "    for row, col in enumerate(state): \n",
    "        for ir in range(row+1, len(state) ): \n",
    "    #         print('row=',row,'q col=',col,' ir=',ir, 'current[ir]=', current[ir])\n",
    "            if state[ir]==col:   #vertical attack\n",
    "                attack+=1 \n",
    "            elif abs(col-state[ir])==ir-row :  #diagonal attack\n",
    "                attack+=1\n",
    "    return -attack"
   ]
  },
  {
   "cell_type": "markdown",
   "metadata": {},
   "source": [
    "### Coding GA"
   ]
  },
  {
   "cell_type": "code",
   "execution_count": 4,
   "metadata": {},
   "outputs": [],
   "source": [
    "def mutate_genes_switch(chromosom, ngene=2):\n",
    "    for ct in range(ngene):\n",
    "            i = random.randint(0, len(chromosom) - 1)\n",
    "            j = random.randint(0, len(chromosom) - 1)\n",
    "            chromosom[i], chromosom[j] = chromosom[j], chromosom[i]\n",
    "    return chromosom"
   ]
  },
  {
   "cell_type": "code",
   "execution_count": null,
   "metadata": {},
   "outputs": [],
   "source": []
  },
  {
   "cell_type": "code",
   "execution_count": 5,
   "metadata": {},
   "outputs": [],
   "source": [
    "'''\n",
    "create random population\n",
    "'''\n",
    "def create_population(chromosom_length, population_size):\n",
    "    population=[]\n",
    "    for i in range(population_size): \n",
    "        individual=np.arange(0, chromosom_length)\n",
    "        np.random.shuffle(individual)\n",
    "        population.append(individual)\n",
    "    return np.array(population)"
   ]
  },
  {
   "cell_type": "code",
   "execution_count": 6,
   "metadata": {},
   "outputs": [],
   "source": [
    "'''\n",
    "select random pool_size number individual, select the best one as parent1.\n",
    "similarly choose parent2.\n",
    "'''\n",
    "def select_parent_from_pool(population, hs,  pool_size ):\n",
    "    iparent=np.random.choice(np.arange(0,len(population)), pool_size, replace=False)\n",
    "    iparent2=np.random.choice(np.arange(0,len(population)), pool_size, replace=False)\n",
    "     \n",
    "    p=iparent[np.argmax(hs[iparent])] \n",
    "    p2=iparent[np.argmax(hs[iparent2])]\n",
    "    parent1=population[p]\n",
    "    parent2=population[p2] \n",
    "    \n",
    "    return parent1, parent2"
   ]
  },
  {
   "cell_type": "code",
   "execution_count": 7,
   "metadata": {},
   "outputs": [],
   "source": [
    "'''\n",
    "crossover two parent at a random point.\n",
    "'''\n",
    "def get_crossover_child(parent1, parent2):\n",
    "    crossover_point=np.random.randint(0, len(parent1))\n",
    "#     print('point: ', crossover_point)\n",
    "    child1=np.hstack((  parent1[0:crossover_point],  parent2[crossover_point:len(parent1)] ))\n",
    "    child2=np.hstack((  parent2[0:crossover_point],  parent1[crossover_point:len(parent1)] ))\n",
    "    return child1, child2"
   ]
  },
  {
   "cell_type": "code",
   "execution_count": 8,
   "metadata": {},
   "outputs": [],
   "source": [
    "'''\n",
    "fill population by doubling the fittest half.\n",
    "'''\n",
    "def generate_top_fittest_generation(population, fitness):\n",
    "    new_population =[]\n",
    "    stp=population[np.argsort(fitness)]\n",
    "    new_population.extend(stp[int(population_size/2):])\n",
    "    new_population.extend(stp[int(population_size/2):])\n",
    "    return np.array(new_population)"
   ]
  },
  {
   "cell_type": "code",
   "execution_count": 9,
   "metadata": {},
   "outputs": [],
   "source": [
    "'''\n",
    "choose two best parent from two pool.\n",
    "geenrate two child from the parents.\n",
    "'''\n",
    "def generate_crossover_generation(population, fitness, pool_size=100):\n",
    "    new_gen=[]\n",
    "    for i in range( int(len(population)/2) ):\n",
    "        parent1, parent2=select_parent_from_pool(population, fitness, pool_size)\n",
    "        child1, child2=get_crossover_child(parent1, parent2 )\n",
    "        new_gen.append(child1)\n",
    "        new_gen.append(child2)\n",
    "    return np.array(new_gen)"
   ]
  },
  {
   "cell_type": "markdown",
   "metadata": {},
   "source": [
    "### Running"
   ]
  },
  {
   "cell_type": "code",
   "execution_count": 13,
   "metadata": {},
   "outputs": [],
   "source": [
    "nqueen=20\n",
    "population_size=1000\n",
    "generation_size=500"
   ]
  },
  {
   "cell_type": "code",
   "execution_count": 14,
   "metadata": {},
   "outputs": [
    {
     "name": "stdout",
     "output_type": "stream",
     "text": [
      "nqueen= 20\n",
      "__found__\n",
      "duration= 11.09657073020935  seconds\n",
      "#generation 39\n",
      "unique queen positon check 20\n",
      "[ 9 16  2 15  7 10 13  5 18  1  4 19  8 14 11 17  0  6  3 12]\n",
      "\n",
      ". . . . . . . . . Q . . . . . . . . . . \n",
      ". . . . . . . . . . . . . . . . Q . . . \n",
      ". . Q . . . . . . . . . . . . . . . . . \n",
      ". . . . . . . . . . . . . . . Q . . . . \n",
      ". . . . . . . Q . . . . . . . . . . . . \n",
      ". . . . . . . . . . Q . . . . . . . . . \n",
      ". . . . . . . . . . . . . Q . . . . . . \n",
      ". . . . . Q . . . . . . . . . . . . . . \n",
      ". . . . . . . . . . . . . . . . . . Q . \n",
      ". Q . . . . . . . . . . . . . . . . . . \n",
      ". . . . Q . . . . . . . . . . . . . . . \n",
      ". . . . . . . . . . . . . . . . . . . Q \n",
      ". . . . . . . . Q . . . . . . . . . . . \n",
      ". . . . . . . . . . . . . . Q . . . . . \n",
      ". . . . . . . . . . . Q . . . . . . . . \n",
      ". . . . . . . . . . . . . . . . . Q . . \n",
      "Q . . . . . . . . . . . . . . . . . . . \n",
      ". . . . . . Q . . . . . . . . . . . . . \n",
      ". . . Q . . . . . . . . . . . . . . . . \n",
      ". . . . . . . . . . . . Q . . . . . . . \n"
     ]
    }
   ],
   "source": [
    "print('nqueen=', nqueen)\n",
    "population=create_population(nqueen, population_size)\n",
    "fitness=np.array( [ calc_attack_heuristic(ind)  for ind in population] )\n",
    "\n",
    "st=time.time()\n",
    "success=False\n",
    "for gen in range(generation_size):  \n",
    "    if max(fitness)==0:\n",
    "        print('__found__')\n",
    "        success=True\n",
    "        break   \n",
    "        \n",
    "    population = generate_top_fittest_generation(population, fitness)\n",
    "#     population=generate_crossover_generation(population, fitness)\n",
    "    \n",
    "    msp=[]\n",
    "    for ind in  population:  \n",
    "        if random.uniform(0, 1) < 0.25:\n",
    "            ind=mutate_genes_switch(ind)\n",
    "        msp.append(ind) \n",
    "    \n",
    "    population=np.array(msp)\n",
    "    fitness=np.array( [ calc_attack_heuristic(ind)  for ind in population] )\n",
    "et=time.time()\n",
    "print('duration=', (et-st),' seconds')\n",
    "print('#generation', gen)\n",
    "\n",
    "winner=population[np.argmax(fitness)] \n",
    "print('unique queen positon check', len(set(winner)))\n",
    "if success:\n",
    "    board_print(winner)\n",
    "else:\n",
    "    print('Solution Not Found')"
   ]
  },
  {
   "cell_type": "code",
   "execution_count": null,
   "metadata": {},
   "outputs": [],
   "source": []
  },
  {
   "cell_type": "code",
   "execution_count": null,
   "metadata": {},
   "outputs": [],
   "source": []
  },
  {
   "cell_type": "code",
   "execution_count": null,
   "metadata": {},
   "outputs": [],
   "source": []
  }
 ],
 "metadata": {
  "kernelspec": {
   "display_name": "Python 3",
   "language": "python",
   "name": "python3"
  },
  "language_info": {
   "codemirror_mode": {
    "name": "ipython",
    "version": 3
   },
   "file_extension": ".py",
   "mimetype": "text/x-python",
   "name": "python",
   "nbconvert_exporter": "python",
   "pygments_lexer": "ipython3",
   "version": "3.7.0"
  }
 },
 "nbformat": 4,
 "nbformat_minor": 2
}

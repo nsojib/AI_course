{
 "cells": [
  {
   "cell_type": "code",
   "execution_count": 1,
   "metadata": {},
   "outputs": [],
   "source": [
    "import time\n",
    "import numpy as np\n",
    "import math\n",
    "import random"
   ]
  },
  {
   "cell_type": "markdown",
   "metadata": {},
   "source": [
    "### Algorithm: Simulated Annealing \n",
    "<b> Idea of metallurgy in AI\n",
    "    1. In high temperature it accept the best move as well as worst move that is above certain probability.\n",
    "    2. As temperature decrease gradually it choose only the best move.\n",
    "    \n",
    "    ** As temperature decrease metals become stronger (atomic bond) and similarly in AI the next move become better and best.\n",
    "    \n",
    "### Problem: N Queen"
   ]
  },
  {
   "cell_type": "markdown",
   "metadata": {},
   "source": [
    "### Pseudocode\n",
    "1. Let s = s0\n",
    "2. For k = 0 through kmax (exclusive):\n",
    "3.     * T ← temperature( (k+1)/kmax )\n",
    "4.     * Pick a random neighbour, snew ← neighbour(s)\n",
    "5.     * If P(E(s), E(snew), T) ≥ random(0, 1):\n",
    "6.     * s ← snew\n",
    "7. Output: the final state s"
   ]
  },
  {
   "cell_type": "markdown",
   "metadata": {},
   "source": [
    "#### Heuristic: Number of pair in attack situation."
   ]
  },
  {
   "cell_type": "code",
   "execution_count": 2,
   "metadata": {},
   "outputs": [],
   "source": [
    "'''\n",
    "Each row contains one queen in arbitrary column.  \n",
    "So, Vartical and diagonal attack only. No horizontal attack.\n",
    "'''\n",
    "def calc_attack_heuristic(state):\n",
    "    attack=0\n",
    "    for row, col in enumerate(state): \n",
    "        for ir in range(row+1, len(state) ): \n",
    "    #         print('row=',row,'q col=',col,' ir=',ir, 'current[ir]=', current[ir])\n",
    "            if state[ir]==col:   #vertical attack\n",
    "                attack+=1 \n",
    "            elif abs(col-state[ir])==ir-row :  #diagonal attack\n",
    "                attack+=1\n",
    "    return -attack"
   ]
  },
  {
   "cell_type": "code",
   "execution_count": 3,
   "metadata": {},
   "outputs": [],
   "source": [
    "def board_print(state):\n",
    "    bs=''\n",
    "    for row in range( len(state) ):\n",
    "        for col in range( len(state) ):\n",
    "            if col==state[row]:\n",
    "                bs+='Q '\n",
    "            else:\n",
    "                bs+='. '\n",
    "        if row!=len(state)-1:\n",
    "            bs+='\\n'\n",
    "    print(state)\n",
    "    print('')\n",
    "    print(bs)"
   ]
  },
  {
   "cell_type": "code",
   "execution_count": 4,
   "metadata": {},
   "outputs": [],
   "source": [
    "'''\n",
    "For each of the n rows queen can move to n-1 other positions. So, #next_states= n*(n-1)\n",
    "'''\n",
    "def gen_next_states(state):\n",
    "    near_states=[]\n",
    "    for row in range( len(state) ):\n",
    "        for col in range( len(state) ):\n",
    "            if col==state[row]:\n",
    "                pass\n",
    "            else:\n",
    "                near = list(state)   #copy\n",
    "                near[row]=col        #place queen in new position for this row.\n",
    "                near_states.append(near)\n",
    "    return near_states"
   ]
  },
  {
   "cell_type": "code",
   "execution_count": 5,
   "metadata": {},
   "outputs": [
    {
     "name": "stdout",
     "output_type": "stream",
     "text": [
      "[0 2 2 2]\n",
      "\n",
      "Q . . . \n",
      ". . Q . \n",
      ". . Q . \n",
      ". . Q . \n"
     ]
    }
   ],
   "source": [
    "state=np.random.randint(low=0, high=3, size=4)\n",
    "board_print(state)"
   ]
  },
  {
   "cell_type": "code",
   "execution_count": 6,
   "metadata": {},
   "outputs": [
    {
     "name": "stdout",
     "output_type": "stream",
     "text": [
      "[0 2 2 2]\n",
      "([1, 2, 2, 2], -4)\n",
      "([2, 2, 2, 2], -6)\n",
      "([3, 2, 2, 2], -4)\n",
      "([0, 0, 2, 2], -4)\n",
      "([0, 1, 2, 2], -4)\n",
      "([0, 3, 2, 2], -3)\n",
      "([0, 2, 0, 2], -2)\n",
      "([0, 2, 1, 2], -3)\n",
      "([0, 2, 3, 2], -3)\n",
      "([0, 2, 2, 0], -4)\n",
      "([0, 2, 2, 1], -3)\n",
      "([0, 2, 2, 3], -4)\n"
     ]
    }
   ],
   "source": [
    "near_states=gen_next_states(state)\n",
    "print(state)\n",
    "for ns in near_states:\n",
    "    print(ns, calc_attack_heuristic(ns))"
   ]
  },
  {
   "cell_type": "code",
   "execution_count": 7,
   "metadata": {},
   "outputs": [],
   "source": [
    "def is_it_goal(state):\n",
    "    if calc_attack_heuristic(state)==0:\n",
    "        return True\n",
    "    else:\n",
    "        return False"
   ]
  },
  {
   "cell_type": "code",
   "execution_count": 71,
   "metadata": {},
   "outputs": [],
   "source": [
    "def cooling_schedule(t, mx): \n",
    "    fraction=(t+1)/float(mx)\n",
    "    return max(0.01,  min(1, 1 - fraction))"
   ]
  },
  {
   "cell_type": "code",
   "execution_count": 72,
   "metadata": {},
   "outputs": [],
   "source": [
    "def sim_annealing(nqueen):\n",
    "    current=np.random.randint(low=0, high=nqueen-1, size=nqueen)\n",
    "    mx=1000000 \n",
    "    for t in range(mx): \n",
    "        T=cooling_schedule(t, mx)\n",
    "        if T == 0 or is_it_goal(current):\n",
    "                break\n",
    "        ec=calc_attack_heuristic(current)\n",
    "        next_states=gen_next_states(current)\n",
    "        state = next_states[np.random.randint(len(next_states))]\n",
    "        en=calc_attack_heuristic(state)\n",
    "        delta=en-ec\n",
    "        if delta>0:\n",
    "            current=state\n",
    "        elif np.exp( delta/T )>np.random.uniform(0.0, 1.0):\n",
    "            current=state\n",
    "    return current"
   ]
  },
  {
   "cell_type": "code",
   "execution_count": 73,
   "metadata": {},
   "outputs": [
    {
     "name": "stdout",
     "output_type": "stream",
     "text": [
      "#queen 10\n",
      "\n",
      "duration: 1.39 seconds\n",
      "goal found=True\n",
      "[7, 1, 4, 2, 8, 6, 9, 3, 5, 0]\n",
      "\n",
      ". . . . . . . Q . . \n",
      ". Q . . . . . . . . \n",
      ". . . . Q . . . . . \n",
      ". . Q . . . . . . . \n",
      ". . . . . . . . Q . \n",
      ". . . . . . Q . . . \n",
      ". . . . . . . . . Q \n",
      ". . . Q . . . . . . \n",
      ". . . . . Q . . . . \n",
      "Q . . . . . . . . . \n"
     ]
    }
   ],
   "source": [
    "nqueen=10\n",
    "print('#queen %s'%nqueen)\n",
    "st=time.time()\n",
    "current=sim_annealing(nqueen)\n",
    "et=time.time()\n",
    "\n",
    "print('\\nduration: %0.2f seconds'%(et-st))\n",
    "success=is_it_goal(current) \n",
    "print('goal found=%s'% success )\n",
    "if success: \n",
    "    board_print(current)"
   ]
  },
  {
   "cell_type": "code",
   "execution_count": null,
   "metadata": {},
   "outputs": [],
   "source": []
  },
  {
   "cell_type": "code",
   "execution_count": null,
   "metadata": {},
   "outputs": [],
   "source": []
  }
 ],
 "metadata": {
  "kernelspec": {
   "display_name": "Python 2",
   "language": "python",
   "name": "python2"
  },
  "language_info": {
   "codemirror_mode": {
    "name": "ipython",
    "version": 2
   },
   "file_extension": ".py",
   "mimetype": "text/x-python",
   "name": "python",
   "nbconvert_exporter": "python",
   "pygments_lexer": "ipython2",
   "version": "2.7.15"
  }
 },
 "nbformat": 4,
 "nbformat_minor": 2
}

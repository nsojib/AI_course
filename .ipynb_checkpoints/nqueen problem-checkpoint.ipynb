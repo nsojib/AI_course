{
 "cells": [
  {
   "cell_type": "code",
   "execution_count": 1,
   "metadata": {},
   "outputs": [],
   "source": [
    "import numpy as np"
   ]
  },
  {
   "cell_type": "markdown",
   "metadata": {},
   "source": [
    "## N Queen\n",
    "\n",
    "Place n queens in a nxn board in a way no queens attack each other. Attack when in horizontal line, vertical line or diagonal line"
   ]
  },
  {
   "cell_type": "markdown",
   "metadata": {},
   "source": [
    "### NxN Board Representation\n",
    "<b>For each row which column the queen is located."
   ]
  },
  {
   "cell_type": "code",
   "execution_count": 7,
   "metadata": {},
   "outputs": [
    {
     "name": "stdout",
     "output_type": "stream",
     "text": [
      "board= [5 3 0 0 4 2 4 1]\n"
     ]
    }
   ],
   "source": [
    "n=8\n",
    "board=np.random.randint(low=0, high=n-1, size=n)\n",
    "print('board=', board)"
   ]
  },
  {
   "cell_type": "code",
   "execution_count": 2,
   "metadata": {},
   "outputs": [],
   "source": [
    "def board_print(state):\n",
    "    bs=''\n",
    "    for row in range( len(state) ):\n",
    "        for col in range( len(state) ):\n",
    "            if col==state[row]:\n",
    "                bs+='Q '\n",
    "            else:\n",
    "                bs+='. '\n",
    "        if row!=len(state)-1:\n",
    "            bs+='\\n'\n",
    "    print(state)\n",
    "    print('')\n",
    "    print(bs)"
   ]
  },
  {
   "cell_type": "code",
   "execution_count": 8,
   "metadata": {},
   "outputs": [
    {
     "name": "stdout",
     "output_type": "stream",
     "text": [
      "[5 3 0 0 4 2 4 1]\n",
      "\n",
      ". . . . . Q . . \n",
      ". . . Q . . . . \n",
      "Q . . . . . . . \n",
      "Q . . . . . . . \n",
      ". . . . Q . . . \n",
      ". . Q . . . . . \n",
      ". . . . Q . . . \n",
      ". Q . . . . . . \n"
     ]
    }
   ],
   "source": [
    "board_print(board)"
   ]
  },
  {
   "cell_type": "markdown",
   "metadata": {},
   "source": [
    "#### Heuristic: Number of pair in attack situation."
   ]
  },
  {
   "cell_type": "code",
   "execution_count": 9,
   "metadata": {},
   "outputs": [],
   "source": [
    "'''\n",
    "Each row contains one queen in arbitrary column.  \n",
    "So, Vartical and diagonal attack only. No horizontal attack.\n",
    "'''\n",
    "def calc_attack_heuristic(state):\n",
    "    attack=0\n",
    "    for row, col in enumerate(state): \n",
    "        for ir in range(row+1, len(state) ): \n",
    "    #         print('row=',row,'q col=',col,' ir=',ir, 'current[ir]=', current[ir])\n",
    "            if state[ir]==col:   #vertical attack\n",
    "                attack+=1 \n",
    "            elif abs(col-state[ir])==ir-row :  #diagonal attack\n",
    "                attack+=1\n",
    "    return -attack"
   ]
  },
  {
   "cell_type": "code",
   "execution_count": 11,
   "metadata": {},
   "outputs": [
    {
     "name": "stdout",
     "output_type": "stream",
     "text": [
      "-5\n"
     ]
    }
   ],
   "source": [
    "hs=calc_attack_heuristic(board)\n",
    "print(hs)"
   ]
  },
  {
   "cell_type": "markdown",
   "metadata": {},
   "source": [
    "### Next States\n",
    "<b> N*(N-1) states"
   ]
  },
  {
   "cell_type": "code",
   "execution_count": 12,
   "metadata": {},
   "outputs": [],
   "source": [
    "'''\n",
    "For each of the n rows queen can move to n-1 other positions. So, #next_states= n*(n-1)\n",
    "'''\n",
    "def gen_next_states(state):\n",
    "    near_states=[]\n",
    "    for row in range( len(state) ):\n",
    "        for col in range( len(state) ):\n",
    "            if col==state[row]:\n",
    "                pass\n",
    "            else:\n",
    "                near = list(state)   #copy\n",
    "                near[row]=col        #place queen in new position for this row.\n",
    "                near_states.append(near)\n",
    "    return near_states"
   ]
  },
  {
   "cell_type": "code",
   "execution_count": 16,
   "metadata": {},
   "outputs": [
    {
     "name": "stdout",
     "output_type": "stream",
     "text": [
      "[5 3 0 0 4 2 4 1]\n",
      "[0, 3, 0, 0, 4, 2, 4, 1] -8\n",
      "[1, 3, 0, 0, 4, 2, 4, 1] -6\n",
      "[2, 3, 0, 0, 4, 2, 4, 1] -8\n"
     ]
    }
   ],
   "source": [
    "near_states=gen_next_states(board)\n",
    "print(board)\n",
    "for ns in near_states[:3]:\n",
    "    print(ns, calc_attack_heuristic(ns))"
   ]
  },
  {
   "cell_type": "markdown",
   "metadata": {},
   "source": [
    "## Solving Algorithms\n",
    "\n",
    "> 1. Hill Climbing with random restart\n",
    "> 2. Simulated annealing"
   ]
  },
  {
   "cell_type": "code",
   "execution_count": null,
   "metadata": {},
   "outputs": [],
   "source": []
  }
 ],
 "metadata": {
  "kernelspec": {
   "display_name": "Python 3",
   "language": "python",
   "name": "python3"
  },
  "language_info": {
   "codemirror_mode": {
    "name": "ipython",
    "version": 3
   },
   "file_extension": ".py",
   "mimetype": "text/x-python",
   "name": "python",
   "nbconvert_exporter": "python",
   "pygments_lexer": "ipython3",
   "version": "3.7.0"
  }
 },
 "nbformat": 4,
 "nbformat_minor": 2
}

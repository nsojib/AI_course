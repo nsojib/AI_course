{
 "cells": [
  {
   "cell_type": "markdown",
   "metadata": {},
   "source": [
    "### Uninformed Search\n",
    "1. BFS\n",
    "2. DFS\n",
    "3. Uniform cost search"
   ]
  },
  {
   "cell_type": "code",
   "execution_count": 2,
   "metadata": {},
   "outputs": [],
   "source": [
    "#Tree is also grah. Tree vs Graph. Tree can't have loop. Trees are a subclass of directed graphs"
   ]
  },
  {
   "cell_type": "code",
   "execution_count": 3,
   "metadata": {},
   "outputs": [],
   "source": [
    "#The two basic approaches differ as to whether you check for a goal when a node is generated or when it is expanded."
   ]
  },
  {
   "cell_type": "markdown",
   "metadata": {},
   "source": [
    "We say that BFS is the algorithm to use if we want to find the shortest path in an undirected, unweighted graph. \n",
    "The claim for BFS is that the first time a node is discovered during the traversal, that distance from the source would give us the shortest path. The same cannot be said for a weighted graph"
   ]
  },
  {
   "cell_type": "markdown",
   "metadata": {},
   "source": [
    "BFS can be used to find single source shortest path in an unweighted graph, because in BFS, we reach a vertex with minimum number of edges from a source vertex"
   ]
  },
  {
   "cell_type": "markdown",
   "metadata": {},
   "source": [
    "8 puzzle has 9! states.\n",
    "<img src='8_puzzle.png'>\n"
   ]
  },
  {
   "cell_type": "markdown",
   "metadata": {},
   "source": [
    "Uniform Cost Search: Called \"Dijkstra's Algorithm\" in the algorithms literature<br>\n",
    "Dijkstra's algorithm searches for shortest paths from root to every other node in a graph, whereas uniform-cost searches for shortest paths in terms of cost to a goal node."
   ]
  },
  {
   "cell_type": "code",
   "execution_count": 2,
   "metadata": {},
   "outputs": [],
   "source": [
    "#number of combination in rubiks cube.\n",
    "#time and space complexity for bfs\n",
    "#Time complexity = O(V+E)\n",
    "# In terms of branching factor and depth (which we will use in AI) Time complexity= O(b^d) where b= branching factor, d=depth\n",
    "# Storing in frontier FIFO =O(b^d) and storing in visited=O(b^d-1) in total total space complexity = O(b^d)\n",
    "\n",
    "#the memory requirements are a bigger problem for breadth-first search than is the execution time"
   ]
  },
  {
   "cell_type": "markdown",
   "metadata": {},
   "source": [
    "ucs<br>\n",
    "Complexity: O( m ^ (1+floor(l/e)))\n",
    "where,\n",
    "m is the maximum number of neighbor a node has\n",
    "l is the length of the shortest path to the goal state\n",
    "e is the least cost of an edge"
   ]
  },
  {
   "cell_type": "code",
   "execution_count": 4,
   "metadata": {},
   "outputs": [
    {
     "name": "stdout",
     "output_type": "stream",
     "text": [
      "<__main__.PriorityQueue object at 0x000002054A3642B0>\n"
     ]
    }
   ],
   "source": [
    "import heapq\n",
    "\n",
    "class PriorityQueue:\n",
    "\n",
    "\tdef __init__(self):\n",
    "\t\tself._queue = []\n",
    "\t\tself._index = 0\n",
    "\n",
    "\tdef insert(self, item, priority):\n",
    "\t\theapq.heappush(self._queue, (priority, self._index, item))\n",
    "\t\tself._index += 1\n",
    "\n",
    "\tdef remove(self):\n",
    "\t\treturn heapq.heappop(self._queue)[-1]\n",
    "\n",
    "\tdef is_empty(self):\n",
    "\t\treturn len(self._queue) == 0\n",
    "\n",
    "\n",
    "# test...\n",
    "queue = PriorityQueue()\n",
    "queue.insert('e', 9)\n",
    "queue.insert('a', 2)\n",
    "queue.insert('h', 13)\n",
    "print(queue)"
   ]
  },
  {
   "cell_type": "code",
   "execution_count": 5,
   "metadata": {},
   "outputs": [
    {
     "name": "stdout",
     "output_type": "stream",
     "text": [
      "<__main__.PriorityQueue object at 0x000002054A3642B0>\n"
     ]
    }
   ],
   "source": [
    "queue.insert('e', 5)\n",
    "queue.insert('c', 11)\n",
    "print(queue)"
   ]
  },
  {
   "cell_type": "code",
   "execution_count": 10,
   "metadata": {},
   "outputs": [
    {
     "name": "stdout",
     "output_type": "stream",
     "text": [
      "h\n"
     ]
    }
   ],
   "source": [
    "print(queue.remove())"
   ]
  },
  {
   "cell_type": "code",
   "execution_count": null,
   "metadata": {},
   "outputs": [],
   "source": []
  },
  {
   "cell_type": "code",
   "execution_count": 4,
   "metadata": {},
   "outputs": [
    {
     "name": "stdout",
     "output_type": "stream",
     "text": [
      "A\n",
      "B\n",
      "D\n",
      "E\n",
      "F\n",
      "C\n"
     ]
    }
   ],
   "source": [
    "# Using a Python dictionary to act as an adjacency list\n",
    "graph = {\n",
    "    'A' : ['B','C'],\n",
    "    'B' : ['D', 'E'],\n",
    "    'C' : ['F'],\n",
    "    'D' : [],\n",
    "    'E' : ['F'],\n",
    "    'F' : []\n",
    "}\n",
    "\n",
    "visited = [] # Array to keep track of visited nodes.\n",
    "\n",
    "def dfs(visited, graph, node):\n",
    "    if node not in visited:\n",
    "        print(node,)\n",
    "        visited.append(node)\n",
    "        for neighbour in graph[node]:\n",
    "            dfs(visited, graph, neighbour)\n",
    "\n",
    "# Driver Code\n",
    "dfs(visited, graph, 'A')"
   ]
  },
  {
   "cell_type": "code",
   "execution_count": null,
   "metadata": {},
   "outputs": [],
   "source": []
  },
  {
   "cell_type": "code",
   "execution_count": 5,
   "metadata": {},
   "outputs": [
    {
     "name": "stdout",
     "output_type": "stream",
     "text": [
      "0\n",
      "1\n",
      "3\n",
      "4\n",
      "2\n",
      "2\n"
     ]
    },
    {
     "data": {
      "text/plain": [
       "{'0', '1', '2', '3', '4'}"
      ]
     },
     "execution_count": 5,
     "metadata": {},
     "output_type": "execute_result"
    }
   ],
   "source": [
    "def dfs(graph, start, visited=None):\n",
    "    if visited is None:\n",
    "        visited = set()\n",
    "    visited.add(start)\n",
    "    print(start)\n",
    "    for next in graph[start] - visited:\n",
    "        dfs(graph, next, visited)\n",
    "    return visited\n",
    "graph = {'0': set(['1', '2']),\n",
    "         '1': set(['0', '3', '4']),\n",
    "         '2': set(['0']),\n",
    "         '3': set(['1']),\n",
    "         '4': set(['2', '3'])}\n",
    "dfs(graph, '0')"
   ]
  },
  {
   "cell_type": "code",
   "execution_count": null,
   "metadata": {},
   "outputs": [],
   "source": [
    "    DFS-iterative (G, s):                                   //Where G is graph and s is source vertex\n",
    "      let S be stack\n",
    "      S.push( s )            //Inserting s in stack \n",
    "      mark s as visited.\n",
    "      while ( S is not empty):\n",
    "          //Pop a vertex from stack to visit next\n",
    "          v  =  S.top( )\n",
    "         S.pop( )\n",
    "         //Push all the neighbours of v in stack that are not visited   \n",
    "        for all neighbours w of v in Graph G:\n",
    "            if w is not visited :\n",
    "                     S.push( w )         \n",
    "                    mark w as visited\n",
    "\n",
    "\n",
    "    DFS-recursive(G, s):\n",
    "        mark s as visited\n",
    "        for all neighbours w of s in Graph G:\n",
    "            if w is not visited:\n",
    "                DFS-recursive(G, w)"
   ]
  },
  {
   "cell_type": "markdown",
   "metadata": {},
   "source": [
    "### Informed Search"
   ]
  },
  {
   "cell_type": "markdown",
   "metadata": {},
   "source": [
    "Two heuristic for 8-puzzle\n",
    "1. numer of tiles out of place\n",
    "2. manhattan distance"
   ]
  },
  {
   "cell_type": "code",
   "execution_count": 2,
   "metadata": {},
   "outputs": [],
   "source": [
    "#Best first search pseudocode.\n",
    "#similar as bfs, use priority q, priority based on f value. f=h(n)"
   ]
  },
  {
   "cell_type": "code",
   "execution_count": null,
   "metadata": {},
   "outputs": [],
   "source": []
  },
  {
   "cell_type": "markdown",
   "metadata": {},
   "source": [
    "### ToDo\n",
    "1. https://cs.uwaterloo.ca/~a23gao/cs486_f18/slides/lec03_search_uninformed_nosol.pdf\n",
    "2. https://www.geeksforgeeks.org/iterative-deepening-searchids-iterative-deepening-depth-first-searchiddfs/\n",
    "3. https://github.com/vivin/cse598/blob/master/mt1/AI_midterm_notes.md\n",
    "4. https://www.quora.com/Why-space-complexity-of-depth-first-search-is-O-bd\n",
    "5. https://github.com/aimacode/aima-pseudocode/blob/master/md/Depth-Limited-Search.md\n",
    "6. https://mhesham.wordpress.com/category/artificial-intelligence/\n"
   ]
  },
  {
   "cell_type": "code",
   "execution_count": null,
   "metadata": {},
   "outputs": [],
   "source": []
  }
 ],
 "metadata": {
  "kernelspec": {
   "display_name": "Python 3",
   "language": "python",
   "name": "python3"
  },
  "language_info": {
   "codemirror_mode": {
    "name": "ipython",
    "version": 3
   },
   "file_extension": ".py",
   "mimetype": "text/x-python",
   "name": "python",
   "nbconvert_exporter": "python",
   "pygments_lexer": "ipython3",
   "version": "3.7.0"
  }
 },
 "nbformat": 4,
 "nbformat_minor": 2
}

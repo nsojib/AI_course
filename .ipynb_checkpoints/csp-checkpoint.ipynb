{
 "cells": [
  {
   "cell_type": "markdown",
   "metadata": {},
   "source": [
    "### Constraint Satisfaction Problem"
   ]
  },
  {
   "cell_type": "code",
   "execution_count": 11,
   "metadata": {},
   "outputs": [],
   "source": [
    "def backtrack(assignment):\n",
    "    if len(assignment)==len(variables):  #complete.\n",
    "        return assignment\n",
    "    unassigned=[v for v in variables if v not in assignment]\n",
    "    first=unassigned[0] \n",
    "    for value in domains[first]:  \n",
    "            assignment[first] = value \n",
    "            if is_satisfied(assignment, variables):\n",
    "                result  = backtrack(assignment) \n",
    "                if result is not None: \n",
    "                    return result \n",
    "            del assignment[first]\n",
    "    return None "
   ]
  },
  {
   "cell_type": "markdown",
   "metadata": {},
   "source": [
    "#### SEND MORE MONEY"
   ]
  },
  {
   "cell_type": "code",
   "execution_count": 2,
   "metadata": {},
   "outputs": [
    {
     "name": "stdout",
     "output_type": "stream",
     "text": [
      "['S', 'E', 'N', 'D', 'M', 'O', 'R', 'Y']\n"
     ]
    }
   ],
   "source": [
    "variables=['S','E','N','D','M','O','R','Y']\n",
    "print(variables)"
   ]
  },
  {
   "cell_type": "code",
   "execution_count": 9,
   "metadata": {},
   "outputs": [],
   "source": [
    "domains={}\n",
    "for v in variables:\n",
    "    domains[v]=[i for i in range(0,10)]\n",
    "domains['M']=[1]"
   ]
  },
  {
   "cell_type": "code",
   "execution_count": 10,
   "metadata": {},
   "outputs": [
    {
     "data": {
      "text/plain": [
       "{'S': [0, 1, 2, 3, 4, 5, 6, 7, 8, 9],\n",
       " 'E': [0, 1, 2, 3, 4, 5, 6, 7, 8, 9],\n",
       " 'N': [0, 1, 2, 3, 4, 5, 6, 7, 8, 9],\n",
       " 'D': [0, 1, 2, 3, 4, 5, 6, 7, 8, 9],\n",
       " 'M': [1],\n",
       " 'O': [0, 1, 2, 3, 4, 5, 6, 7, 8, 9],\n",
       " 'R': [0, 1, 2, 3, 4, 5, 6, 7, 8, 9],\n",
       " 'Y': [0, 1, 2, 3, 4, 5, 6, 7, 8, 9]}"
      ]
     },
     "execution_count": 10,
     "metadata": {},
     "output_type": "execute_result"
    }
   ],
   "source": [
    "domains"
   ]
  },
  {
   "cell_type": "code",
   "execution_count": 1,
   "metadata": {},
   "outputs": [],
   "source": [
    "def is_satisfied(assignment, variables): \n",
    "    \"\"\"check if assignment satisfied all the constraints.\"\"\"\n",
    "    \n",
    "    if len(set(assignment.values())) != len(assignment):     #constraint: Alldiff\n",
    "        return False\n",
    "    \n",
    "    elif len(assignment)==len(variables):   #if all are assigned. check if constraints satisfy or not.\n",
    "        send=assignment['S']*1000+assignment['E']*100+assignment['N']*10+assignment['D']\n",
    "        more=assignment['M']*1000+assignment['O']*100+assignment['R']*10+assignment['E']\n",
    "        money=assignment['M']*10000+assignment['O']*1000+assignment['N']*100+assignment['E']*10+assignment['Y']\n",
    "        return send+more==money\n",
    "    else:\n",
    "        return True   #no conflict."
   ]
  },
  {
   "cell_type": "code",
   "execution_count": 12,
   "metadata": {},
   "outputs": [
    {
     "name": "stdout",
     "output_type": "stream",
     "text": [
      "{'S': 9, 'E': 5, 'N': 6, 'D': 7, 'M': 1, 'O': 0, 'R': 8, 'Y': 2}\n"
     ]
    }
   ],
   "source": [
    "assignment={}\n",
    "assignment=backtrack(assignment)\n",
    "print(assignment)"
   ]
  },
  {
   "cell_type": "code",
   "execution_count": null,
   "metadata": {},
   "outputs": [],
   "source": []
  },
  {
   "cell_type": "markdown",
   "metadata": {},
   "source": [
    "### N queen"
   ]
  },
  {
   "cell_type": "code",
   "execution_count": 102,
   "metadata": {},
   "outputs": [],
   "source": [
    "N=4"
   ]
  },
  {
   "cell_type": "code",
   "execution_count": 103,
   "metadata": {},
   "outputs": [
    {
     "name": "stdout",
     "output_type": "stream",
     "text": [
      "['Q1', 'Q2', 'Q3', 'Q4']\n"
     ]
    }
   ],
   "source": [
    "variables=['Q'+str(i+1) for i in range(N)]\n",
    "print(variables)"
   ]
  },
  {
   "cell_type": "code",
   "execution_count": 104,
   "metadata": {},
   "outputs": [
    {
     "data": {
      "text/plain": [
       "{'Q1': [1, 2, 3, 4],\n",
       " 'Q2': [1, 2, 3, 4],\n",
       " 'Q3': [1, 2, 3, 4],\n",
       " 'Q4': [1, 2, 3, 4]}"
      ]
     },
     "execution_count": 104,
     "metadata": {},
     "output_type": "execute_result"
    }
   ],
   "source": [
    "domains={}\n",
    "for v in variables:\n",
    "    domains[v]=[i for i in range(1, len(variables)+1)]\n",
    "domains"
   ]
  },
  {
   "cell_type": "code",
   "execution_count": 105,
   "metadata": {},
   "outputs": [],
   "source": [
    "def is_satisfied(assignment, variables):\n",
    "    state=assignment.values()\n",
    "    state=list(state)\n",
    "#     print('state:', state)\n",
    "    attack=0\n",
    "    for row, col in enumerate(state): \n",
    "        for ir in range(row+1, len(state) ): \n",
    "    #         print('row=',row,'q col=',col,' ir=',ir, 'current[ir]=', current[ir])\n",
    "            if state[ir]==col:   #vertical attack\n",
    "                attack+=1 \n",
    "            elif abs(col-state[ir])==ir-row :  #diagonal attack\n",
    "                attack+=1\n",
    "    return attack==0"
   ]
  },
  {
   "cell_type": "code",
   "execution_count": 106,
   "metadata": {},
   "outputs": [
    {
     "name": "stdout",
     "output_type": "stream",
     "text": [
      "{'Q1': 2, 'Q2': 4, 'Q3': 1, 'Q4': 3}\n"
     ]
    }
   ],
   "source": [
    "res=backtrack({})\n",
    "print(res)"
   ]
  },
  {
   "cell_type": "code",
   "execution_count": 107,
   "metadata": {},
   "outputs": [],
   "source": [
    "def board_print(state):\n",
    "    bs=''\n",
    "    for row in range( len(state) ):\n",
    "        for col in range( len(state) ):\n",
    "            if col==state[row]:\n",
    "                bs+='Q '\n",
    "            else:\n",
    "                bs+='. '\n",
    "        if row!=len(state)-1:\n",
    "            bs+='\\n'\n",
    "    print(state)\n",
    "    print('')\n",
    "    print(bs)"
   ]
  },
  {
   "cell_type": "code",
   "execution_count": 108,
   "metadata": {
    "scrolled": true
   },
   "outputs": [
    {
     "name": "stdout",
     "output_type": "stream",
     "text": [
      ". Q1 . . \n",
      ". . . Q2 \n",
      "Q3 . . . \n",
      ". . Q4 . \n",
      "\n"
     ]
    }
   ],
   "source": [
    "board=''\n",
    "for k,v in res.items():\n",
    "    for j in range(N):\n",
    "        if j==v-1:\n",
    "            board+=k+' '\n",
    "        else:\n",
    "            board+='. '\n",
    "    board+='\\n'\n",
    "print(board)"
   ]
  },
  {
   "cell_type": "code",
   "execution_count": null,
   "metadata": {},
   "outputs": [],
   "source": []
  },
  {
   "cell_type": "code",
   "execution_count": null,
   "metadata": {},
   "outputs": [],
   "source": []
  }
 ],
 "metadata": {
  "kernelspec": {
   "display_name": "Python 3",
   "language": "python",
   "name": "python3"
  },
  "language_info": {
   "codemirror_mode": {
    "name": "ipython",
    "version": 3
   },
   "file_extension": ".py",
   "mimetype": "text/x-python",
   "name": "python",
   "nbconvert_exporter": "python",
   "pygments_lexer": "ipython3",
   "version": "3.7.0"
  }
 },
 "nbformat": 4,
 "nbformat_minor": 2
}
